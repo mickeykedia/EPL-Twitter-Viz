{
 "cells": [
  {
   "cell_type": "code",
   "execution_count": 1,
   "metadata": {
    "collapsed": true
   },
   "outputs": [],
   "source": [
    "import numpy as np"
   ]
  },
  {
   "cell_type": "code",
   "execution_count": 6,
   "metadata": {
    "collapsed": false
   },
   "outputs": [],
   "source": [
    "freqs = np.random.rand(47)"
   ]
  },
  {
   "cell_type": "code",
   "execution_count": 7,
   "metadata": {
    "collapsed": true
   },
   "outputs": [],
   "source": [
    "time = range(1,48)"
   ]
  },
  {
   "cell_type": "code",
   "execution_count": 10,
   "metadata": {
    "collapsed": false
   },
   "outputs": [],
   "source": [
    "time = map(lambda x : str(x), time)"
   ]
  },
  {
   "cell_type": "code",
   "execution_count": 16,
   "metadata": {
    "collapsed": false
   },
   "outputs": [],
   "source": [
    "import pandas as pd"
   ]
  },
  {
   "cell_type": "code",
   "execution_count": 18,
   "metadata": {
    "collapsed": true
   },
   "outputs": [],
   "source": [
    "d = {\"frequency\":freqs, \"time\":time}"
   ]
  },
  {
   "cell_type": "code",
   "execution_count": 20,
   "metadata": {
    "collapsed": false
   },
   "outputs": [],
   "source": [
    "sample_first_half = pd.DataFrame(d)"
   ]
  },
  {
   "cell_type": "code",
   "execution_count": 21,
   "metadata": {
    "collapsed": true
   },
   "outputs": [],
   "source": [
    "freqs = np.random.rand(49)"
   ]
  },
  {
   "cell_type": "code",
   "execution_count": 28,
   "metadata": {
    "collapsed": true
   },
   "outputs": [],
   "source": [
    "time = map(lambda x: str(x), range(46, 95))"
   ]
  },
  {
   "cell_type": "code",
   "execution_count": 29,
   "metadata": {
    "collapsed": false
   },
   "outputs": [],
   "source": [
    "time[45], time[46], time[47], time[48] = '+1', '+2', '+3', '+4'"
   ]
  },
  {
   "cell_type": "code",
   "execution_count": 31,
   "metadata": {
    "collapsed": false
   },
   "outputs": [],
   "source": [
    "d = {\"frequency\":freqs, \"time\":time}\n",
    "sample_second_half = pd.DataFrame(d)"
   ]
  },
  {
   "cell_type": "code",
   "execution_count": 36,
   "metadata": {
    "collapsed": false
   },
   "outputs": [],
   "source": [
    "?sample_first_half.to_dict(axis=1)"
   ]
  },
  {
   "cell_type": "code",
   "execution_count": 51,
   "metadata": {
    "collapsed": false
   },
   "outputs": [],
   "source": [
    "sample_first_half.to_csv('sample_data.csv')\n"
   ]
  },
  {
   "cell_type": "code",
   "execution_count": 55,
   "metadata": {
    "collapsed": false
   },
   "outputs": [],
   "source": [
    "arr = [sample_first_half.values.tolist(), sample_second_half.values.tolist()]\n"
   ]
  },
  {
   "cell_type": "code",
   "execution_count": 56,
   "metadata": {
    "collapsed": true
   },
   "outputs": [],
   "source": [
    "import json"
   ]
  },
  {
   "cell_type": "code",
   "execution_count": 57,
   "metadata": {
    "collapsed": true
   },
   "outputs": [],
   "source": [
    "with open(\"sample_data.json\", 'w') as f:\n",
    "    json.dump(arr, f)"
   ]
  },
  {
   "cell_type": "code",
   "execution_count": 54,
   "metadata": {
    "collapsed": false
   },
   "outputs": [
    {
     "data": {
      "text/plain": [
       "[[0.49402483558512245, '1'],\n",
       " [0.4229526475186308, '2'],\n",
       " [0.026364639205528007, '3'],\n",
       " [0.05488775467184914, '4'],\n",
       " [0.34448428103619944, '5'],\n",
       " [0.9943288217352945, '6'],\n",
       " [0.28707694243338744, '7'],\n",
       " [0.10549112857019627, '8'],\n",
       " [0.6246259178369504, '9'],\n",
       " [0.05090474154774882, '10'],\n",
       " [0.3938477239381013, '11'],\n",
       " [0.7620338559543943, '12'],\n",
       " [0.1350212067914166, '13'],\n",
       " [0.5812854400470957, '14'],\n",
       " [0.3230758188393217, '15'],\n",
       " [0.7767388746949814, '16'],\n",
       " [0.21565206432449535, '17'],\n",
       " [0.08798781302658432, '18'],\n",
       " [0.4388657839391399, '19'],\n",
       " [0.4674952607563332, '20'],\n",
       " [0.20001051835264583, '21'],\n",
       " [0.47884697690928446, '22'],\n",
       " [0.23039766412825868, '23'],\n",
       " [0.3279855843301518, '24'],\n",
       " [0.12175681827881091, '25'],\n",
       " [0.18444409708483278, '26'],\n",
       " [0.07530833215265254, '27'],\n",
       " [0.1807330078316124, '28'],\n",
       " [0.18164410210176374, '29'],\n",
       " [0.9055448682834849, '30'],\n",
       " [0.4854662604181772, '31'],\n",
       " [0.7642416755665422, '32'],\n",
       " [0.9297027553117444, '33'],\n",
       " [0.8185101633139782, '34'],\n",
       " [0.7593498642071622, '35'],\n",
       " [0.4181498079603614, '36'],\n",
       " [0.7593580596110525, '37'],\n",
       " [0.7983730803998245, '38'],\n",
       " [0.7475398635576386, '39'],\n",
       " [0.5629342514784795, '40'],\n",
       " [0.32656148246370087, '41'],\n",
       " [0.8374383461989071, '42'],\n",
       " [0.2838516194817119, '43'],\n",
       " [0.920141995213955, '44'],\n",
       " [0.8959046055330399, '45'],\n",
       " [0.8046800219038741, '+1'],\n",
       " [0.39833832488726517, '+2']]"
      ]
     },
     "execution_count": 54,
     "metadata": {},
     "output_type": "execute_result"
    }
   ],
   "source": [
    "# Each half will have an array of arrays \n",
    "# We will also pass a list of words to indices in those arrays\n",
    "\n",
    "sample_first_half.values.tolist()"
   ]
  },
  {
   "cell_type": "code",
   "execution_count": null,
   "metadata": {
    "collapsed": true
   },
   "outputs": [],
   "source": []
  }
 ],
 "metadata": {
  "kernelspec": {
   "display_name": "Python 2",
   "language": "python",
   "name": "python2"
  },
  "language_info": {
   "codemirror_mode": {
    "name": "ipython",
    "version": 2
   },
   "file_extension": ".py",
   "mimetype": "text/x-python",
   "name": "python",
   "nbconvert_exporter": "python",
   "pygments_lexer": "ipython2",
   "version": "2.7.11"
  }
 },
 "nbformat": 4,
 "nbformat_minor": 0
}
